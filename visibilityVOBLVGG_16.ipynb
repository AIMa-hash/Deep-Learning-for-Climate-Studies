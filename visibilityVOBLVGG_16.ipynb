{
 "cells": [
  {
   "cell_type": "code",
   "execution_count": 1,
   "id": "2ec32cea",
   "metadata": {},
   "outputs": [],
   "source": [
    "import tensorflow as tf\n",
    "from tensorflow import keras\n",
    "from tensorflow.keras import layers\n",
    "import numpy as np"
   ]
  },
  {
   "cell_type": "code",
   "execution_count": 2,
   "id": "3d6692f3",
   "metadata": {},
   "outputs": [],
   "source": [
    "airports = ['VABB', 'VOTV', 'VOBL', 'VECC', 'VIDP']\n",
    "\n",
    "def get_visibility(code):\n",
    "    arr = np.load(\"visibility_arr.npy\")\n",
    "    idx = airports.index(code)\n",
    "    return arr[:, idx].astype(np.float32)\n",
    "\n",
    "def get_era_full(param, level):\n",
    "    arr = np.load(\"18To20{}{}_uint8.npy\".format(param, level))\n",
    "    return arr.astype(np.float32)"
   ]
  },
  {
   "cell_type": "code",
   "execution_count": 3,
   "id": "6700b4a3",
   "metadata": {},
   "outputs": [],
   "source": [
    "# Import data\n",
    "params = [\"z\", \"z\", \"z\"]\n",
    "levels = [500, 700, 1000]\n",
    "\n",
    "in1_var = get_era_full(params[0], levels[0])\n",
    "in2_var = get_era_full(params[1], levels[1])\n",
    "in3_var = get_era_full(params[2], levels[2])"
   ]
  },
  {
   "cell_type": "code",
   "execution_count": 4,
   "id": "2e8f139f",
   "metadata": {},
   "outputs": [],
   "source": [
    "# data for a given airport\n",
    "X = np.concatenate((np.expand_dims(in1_var, axis=3), np.expand_dims(in2_var, axis=3), np.expand_dims(in3_var, axis=3)), axis=3)\n",
    "Y = get_visibility('VOBL').reshape(-1, 1)"
   ]
  },
  {
   "cell_type": "code",
   "execution_count": 5,
   "id": "21bb1551",
   "metadata": {},
   "outputs": [],
   "source": [
    "# normalizing the output\n",
    "Y = Y/np.max(Y)"
   ]
  },
  {
   "cell_type": "code",
   "execution_count": 6,
   "id": "eea1eb05",
   "metadata": {},
   "outputs": [
    {
     "data": {
      "text/plain": [
       "((26280, 157, 157, 3), dtype('float32'), (26280, 1), dtype('float32'))"
      ]
     },
     "execution_count": 6,
     "metadata": {},
     "output_type": "execute_result"
    }
   ],
   "source": [
    "X.shape, X.dtype, Y.shape, X.dtype"
   ]
  },
  {
   "cell_type": "code",
   "execution_count": 7,
   "id": "3215cad1",
   "metadata": {},
   "outputs": [
    {
     "data": {
      "text/plain": [
       "(18396.0, 23652.0)"
      ]
     },
     "execution_count": 7,
     "metadata": {},
     "output_type": "execute_result"
    }
   ],
   "source": [
    "26280*0.7, 26280*0.9"
   ]
  },
  {
   "cell_type": "code",
   "execution_count": 8,
   "id": "4da3346b",
   "metadata": {},
   "outputs": [],
   "source": [
    "# splitting the data\n",
    "X_train, Y_train = X[:18396], Y[:18396]\n",
    "X_val, Y_val = (X[18396:23652], Y[18396:23652])\n",
    "X_test, Y_test = (X[23652:], Y[23652:])"
   ]
  },
  {
   "cell_type": "code",
   "execution_count": 9,
   "id": "b0250297",
   "metadata": {},
   "outputs": [],
   "source": [
    "conv_base = tf.keras.applications.vgg16.VGG16(\n",
    "    include_top=False,\n",
    "    weights=\"imagenet\",\n",
    "    input_shape=(157, 157, 3))\n"
   ]
  },
  {
   "cell_type": "code",
   "execution_count": 10,
   "id": "9e04b149",
   "metadata": {},
   "outputs": [
    {
     "name": "stdout",
     "output_type": "stream",
     "text": [
      "Model: \"vgg16\"\n",
      "_________________________________________________________________\n",
      " Layer (type)                Output Shape              Param #   \n",
      "=================================================================\n",
      " input_1 (InputLayer)        [(None, 157, 157, 3)]     0         \n",
      "                                                                 \n",
      " block1_conv1 (Conv2D)       (None, 157, 157, 64)      1792      \n",
      "                                                                 \n",
      " block1_conv2 (Conv2D)       (None, 157, 157, 64)      36928     \n",
      "                                                                 \n",
      " block1_pool (MaxPooling2D)  (None, 78, 78, 64)        0         \n",
      "                                                                 \n",
      " block2_conv1 (Conv2D)       (None, 78, 78, 128)       73856     \n",
      "                                                                 \n",
      " block2_conv2 (Conv2D)       (None, 78, 78, 128)       147584    \n",
      "                                                                 \n",
      " block2_pool (MaxPooling2D)  (None, 39, 39, 128)       0         \n",
      "                                                                 \n",
      " block3_conv1 (Conv2D)       (None, 39, 39, 256)       295168    \n",
      "                                                                 \n",
      " block3_conv2 (Conv2D)       (None, 39, 39, 256)       590080    \n",
      "                                                                 \n",
      " block3_conv3 (Conv2D)       (None, 39, 39, 256)       590080    \n",
      "                                                                 \n",
      " block3_pool (MaxPooling2D)  (None, 19, 19, 256)       0         \n",
      "                                                                 \n",
      " block4_conv1 (Conv2D)       (None, 19, 19, 512)       1180160   \n",
      "                                                                 \n",
      " block4_conv2 (Conv2D)       (None, 19, 19, 512)       2359808   \n",
      "                                                                 \n",
      " block4_conv3 (Conv2D)       (None, 19, 19, 512)       2359808   \n",
      "                                                                 \n",
      " block4_pool (MaxPooling2D)  (None, 9, 9, 512)         0         \n",
      "                                                                 \n",
      " block5_conv1 (Conv2D)       (None, 9, 9, 512)         2359808   \n",
      "                                                                 \n",
      " block5_conv2 (Conv2D)       (None, 9, 9, 512)         2359808   \n",
      "                                                                 \n",
      " block5_conv3 (Conv2D)       (None, 9, 9, 512)         2359808   \n",
      "                                                                 \n",
      " block5_pool (MaxPooling2D)  (None, 4, 4, 512)         0         \n",
      "                                                                 \n",
      "=================================================================\n",
      "Total params: 14,714,688\n",
      "Trainable params: 14,714,688\n",
      "Non-trainable params: 0\n",
      "_________________________________________________________________\n"
     ]
    }
   ],
   "source": [
    "conv_base.summary()"
   ]
  },
  {
   "cell_type": "code",
   "execution_count": 11,
   "id": "527ca086",
   "metadata": {},
   "outputs": [
    {
     "data": {
      "text/plain": [
       "19"
      ]
     },
     "execution_count": 11,
     "metadata": {},
     "output_type": "execute_result"
    }
   ],
   "source": [
    "len(conv_base.layers)"
   ]
  },
  {
   "cell_type": "code",
   "execution_count": 12,
   "id": "a52de2e6",
   "metadata": {},
   "outputs": [
    {
     "name": "stdout",
     "output_type": "stream",
     "text": [
      "\n"
     ]
    }
   ],
   "source": [
    "# preprocess_input\n",
    "\n",
    "train_features = tf.keras.applications.vgg16.preprocess_input(X_train)\n",
    "val_features = tf.keras.applications.vgg16.preprocess_input(X_val)\n",
    "test_features = tf.keras.applications.vgg16.preprocess_input(X_test)\n",
    "\n",
    "\"\"\"# Resizing image\n",
    "\n",
    "size = (600,600)\n",
    "train_dataset = tf.data.Dataset.from_tensor_slices((X_train, Y_train))\n",
    "reshaped_train_dataset = train_dataset.map(lambda image, label: (tf.image.resize(image, size), label))\n",
    "reshaped_train_dataset = reshaped_train_dataset.batch(32)\n",
    "#reshaped_train_dataset = np.expand_dims(reshaped_train_dataset, axis=0)\n",
    "\n",
    "val_dataset = tf.data.Dataset.from_tensor_slices((X_val, Y_val))\n",
    "reshaped_val_dataset = val_dataset.map(lambda image, label: (tf.image.resize(image, size), label))\n",
    "reshaped_val_dataset = reshaped_val_dataset.batch(32)\n",
    "#reshaped_val_dataset = np.expand_dims(reshaped_val_dataset, axis=0)\n",
    "\n",
    "test_dataset = tf.data.Dataset.from_tensor_slices((X_test, Y_test))\n",
    "reshaped_test_dataset = test_dataset.map(lambda image, label: (tf.image.resize(image, size), label))\n",
    "reshaped_test_dataset = reshaped_test_dataset.batch(32)\"\"\"\n",
    "print()"
   ]
  },
  {
   "cell_type": "code",
   "execution_count": 13,
   "id": "9977e70c",
   "metadata": {},
   "outputs": [],
   "source": [
    "train_features = conv_base.predict(X_train)\n",
    "val_features = conv_base.predict(X_val)\n",
    "test_features = conv_base.predict(X_test)\n",
    "\n",
    "train_labels = Y_train\n",
    "val_labels = Y_val\n",
    "test_labels = Y_test"
   ]
  },
  {
   "cell_type": "code",
   "execution_count": 14,
   "id": "0c60f94b",
   "metadata": {},
   "outputs": [
    {
     "data": {
      "text/plain": [
       "((18396, 4, 4, 512), (18396, 1))"
      ]
     },
     "execution_count": 14,
     "metadata": {},
     "output_type": "execute_result"
    }
   ],
   "source": [
    "train_features.shape, train_labels.shape"
   ]
  },
  {
   "cell_type": "code",
   "execution_count": 15,
   "id": "3b7e5621",
   "metadata": {},
   "outputs": [
    {
     "name": "stdout",
     "output_type": "stream",
     "text": [
      "0.17493102 96.82741\n"
     ]
    }
   ],
   "source": [
    "# simple baseline\n",
    "train_labels_mean = np.mean(train_labels)\n",
    "simple_baseline_mae = np.mean(np.abs(test_labels - train_labels_mean))\n",
    "simple_baseline_mape = np.mean(((np.abs(test_labels - train_labels_mean))/test_labels)*100)\n",
    "print(simple_baseline_mae, simple_baseline_mape)"
   ]
  },
  {
   "cell_type": "code",
   "execution_count": null,
   "id": "1e570cca",
   "metadata": {},
   "outputs": [],
   "source": []
  },
  {
   "cell_type": "code",
   "execution_count": 16,
   "id": "8f975b9c",
   "metadata": {},
   "outputs": [],
   "source": [
    "# model building\n",
    "inputs = keras.Input(shape = (4,4,512))\n",
    "x = layers.GlobalAveragePooling2D()(inputs)\n",
    "x = layers.BatchNormalization()(x)\n",
    "top_dropout_rate = 0.4\n",
    "x = layers.Dropout(top_dropout_rate)(x)\n",
    "outputs = layers.Dense(1)(x)\n",
    "model = keras.Model(inputs, outputs, name=\"vgg16\")"
   ]
  },
  {
   "cell_type": "code",
   "execution_count": 17,
   "id": "7dcb4a1e",
   "metadata": {},
   "outputs": [
    {
     "name": "stdout",
     "output_type": "stream",
     "text": [
      "Model: \"vgg16\"\n",
      "_________________________________________________________________\n",
      " Layer (type)                Output Shape              Param #   \n",
      "=================================================================\n",
      " input_2 (InputLayer)        [(None, 4, 4, 512)]       0         \n",
      "                                                                 \n",
      " global_average_pooling2d (G  (None, 512)              0         \n",
      " lobalAveragePooling2D)                                          \n",
      "                                                                 \n",
      " batch_normalization (BatchN  (None, 512)              2048      \n",
      " ormalization)                                                   \n",
      "                                                                 \n",
      " dropout (Dropout)           (None, 512)               0         \n",
      "                                                                 \n",
      " dense (Dense)               (None, 1)                 513       \n",
      "                                                                 \n",
      "=================================================================\n",
      "Total params: 2,561\n",
      "Trainable params: 1,537\n",
      "Non-trainable params: 1,024\n",
      "_________________________________________________________________\n"
     ]
    }
   ],
   "source": [
    "model.summary()"
   ]
  },
  {
   "cell_type": "code",
   "execution_count": 18,
   "id": "3c88f537",
   "metadata": {},
   "outputs": [],
   "source": [
    "# compiling the model\n",
    "#import tensorflow_addons as tfa\n",
    "\n",
    "#opt = tfa.optimizers.RectifiedAdam(learning_rate=0.001)\n",
    "#opt = tfa.optimizers.Lookahead(opt, sync_period=6, slow_step_size=0.5)\n",
    "opt =tf.keras.optimizers.RMSprop(learning_rate=0.001)\n",
    "model.compile(loss = 'mae', optimizer = opt, metrics = [tf.keras.losses.MeanAbsoluteError()])#, tf.keras.losses.MeanAbsolutePercentageError()])\n",
    "callbacks = [keras.callbacks.ModelCheckpoint(filepath = \"visibilityVOBL_vgg16.keras\",\n",
    "                                            save_best_only = True, monitor = \"val_loss\")]"
   ]
  },
  {
   "cell_type": "code",
   "execution_count": 19,
   "id": "040ca6d8",
   "metadata": {},
   "outputs": [],
   "source": [
    "history = model.fit(train_features, train_labels, batch_size = 128, epochs = 300, validation_data = (val_features, val_labels), verbose = 0)#, callbacks = callbacks)"
   ]
  },
  {
   "cell_type": "code",
   "execution_count": 20,
   "id": "b35207fc",
   "metadata": {},
   "outputs": [
    {
     "data": {
      "text/plain": [
       "dict_keys(['loss', 'mean_absolute_error', 'val_loss', 'val_mean_absolute_error'])"
      ]
     },
     "execution_count": 20,
     "metadata": {},
     "output_type": "execute_result"
    }
   ],
   "source": [
    "history.history.keys()"
   ]
  },
  {
   "cell_type": "code",
   "execution_count": 21,
   "id": "3a8e4711",
   "metadata": {},
   "outputs": [
    {
     "data": {
      "image/png": "[encoded data removed]",
      "text/plain": [
       "<Figure size 432x288 with 1 Axes>"
      ]
     },
     "metadata": {
      "needs_background": "light"
     },
     "output_type": "display_data"
    },
    {
     "data": {
      "image/png": "[encoded data removed]",
      "text/plain": [
       "<Figure size 432x288 with 1 Axes>"
      ]
     },
     "metadata": {
      "needs_background": "light"
     },
     "output_type": "display_data"
    }
   ],
   "source": [
    "import matplotlib.pyplot as plt\n",
    "mae = history.history[\"mean_absolute_error\"]\n",
    "loss = history.history[\"loss\"]\n",
    "#mape = history.history[\"mean_absolute_percentage_error\"]\n",
    "val_mae = history.history[\"val_mean_absolute_error\"]\n",
    "val_loss = history.history[\"val_loss\"]\n",
    "#val_mape = history.history[\"val_mean_absolute_percentage_error\"]\n",
    "epochs = range(1, len(loss) + 1)\n",
    "\n",
    "plt.plot(epochs, loss, \"bo\", label = \"Training loss(MAE)\")\n",
    "plt.plot(epochs, val_loss, \"b\", label = \"Validation loss(MAE)\")\n",
    "plt.title(\"Training and validation loss(MAE)\")\n",
    "plt.legend()\n",
    "\n",
    "plt.figure()\n",
    "plt.plot(epochs, mae, \"bo\", label = \"Training accuracy(MAE)\")\n",
    "plt.plot(epochs, val_mae, \"b\", label = \"Validation accuracy(MAE)\")\n",
    "plt.title(\"Training and validation accuracy(MAE)\")\n",
    "plt.legend()\n",
    "\n",
    "\"\"\"plt.figure()\n",
    "plt.plot(epochs, mape, \"bo\", label = \"Training accuracy(MAPE)\")\n",
    "plt.plot(epochs, val_mape, \"b\", label = \"Validation accuracy(MAPE)\")\n",
    "plt.title(\"Training and validation accuracy(MAPE)\")\n",
    "plt.legend()\"\"\"\n",
    "\n",
    "plt.show()"
   ]
  },
  {
   "cell_type": "code",
   "execution_count": 22,
   "id": "3b67365b",
   "metadata": {},
   "outputs": [
    {
     "name": "stdout",
     "output_type": "stream",
     "text": [
      "83/83 [==============================] - 0s 2ms/step - loss: 0.1514 - mean_absolute_error: 0.1530\n",
      "Test MAE: 0.153\n"
     ]
    },
    {
     "ename": "NameError",
     "evalue": "name 'test_mape' is not defined",
     "output_type": "error",
     "traceback": [
      "\u001b[0;31m---------------------------------------------------------------------------\u001b[0m",
      "\u001b[0;31mNameError\u001b[0m                                 Traceback (most recent call last)",
      "\u001b[0;32m<ipython-input-22-a25a06ea3c8d>\u001b[0m in \u001b[0;36m<module>\u001b[0;34m\u001b[0m\n\u001b[1;32m      1\u001b[0m \u001b[0mtest_loss\u001b[0m\u001b[0;34m,\u001b[0m \u001b[0mtest_mae\u001b[0m \u001b[0;34m=\u001b[0m \u001b[0mmodel\u001b[0m\u001b[0;34m.\u001b[0m\u001b[0mevaluate\u001b[0m\u001b[0;34m(\u001b[0m\u001b[0mtest_features\u001b[0m\u001b[0;34m,\u001b[0m \u001b[0mtest_labels\u001b[0m\u001b[0;34m)\u001b[0m\u001b[0;34m\u001b[0m\u001b[0;34m\u001b[0m\u001b[0m\n\u001b[1;32m      2\u001b[0m \u001b[0mprint\u001b[0m\u001b[0;34m(\u001b[0m\u001b[0;34mf\"Test MAE: {test_mae:.3f}\"\u001b[0m\u001b[0;34m)\u001b[0m\u001b[0;34m\u001b[0m\u001b[0;34m\u001b[0m\u001b[0m\n\u001b[0;32m----> 3\u001b[0;31m \u001b[0mprint\u001b[0m\u001b[0;34m(\u001b[0m\u001b[0;34mf\"Test MAPE: {test_mape:.3f}\"\u001b[0m\u001b[0;34m)\u001b[0m\u001b[0;34m\u001b[0m\u001b[0;34m\u001b[0m\u001b[0m\n\u001b[0m",
      "\u001b[0;31mNameError\u001b[0m: name 'test_mape' is not defined"
     ]
    }
   ],
   "source": [
    "test_loss, test_mae = model.evaluate(test_features, test_labels)\n",
    "print(f\"Test MAE: {test_mae:.3f}\")\n",
    "print(f\"Test MAPE: {test_mape:.3f}\")"
   ]
  },
  {
   "cell_type": "code",
   "execution_count": null,
   "id": "dd905f32",
   "metadata": {},
   "outputs": [],
   "source": []
  },
  {
   "cell_type": "code",
   "execution_count": 23,
   "id": "42f5a7d2",
   "metadata": {},
   "outputs": [
    {
     "name": "stdout",
     "output_type": "stream",
     "text": [
      "0.06678587\n"
     ]
    },
    {
     "data": {
      "image/png": "[encoded data removed]",
      "text/plain": [
       "<Figure size 432x288 with 1 Axes>"
      ]
     },
     "metadata": {
      "needs_background": "light"
     },
     "output_type": "display_data"
    },
    {
     "data": {
      "image/png": "[encoded data removed]",
      "text/plain": [
       "<Figure size 432x288 with 1 Axes>"
      ]
     },
     "metadata": {
      "needs_background": "light"
     },
     "output_type": "display_data"
    },
    {
     "name": "stdout",
     "output_type": "stream",
     "text": [
      "83/83 [==============================] - 0s 3ms/step - loss: 0.0550 - mean_absolute_error: 0.0552\n",
      "Test MAE: 0.055\n"
     ]
    }
   ],
   "source": [
    "#!/usr/bin/env python\n",
    "# coding: utf-8\n",
    "\n",
    "# In[3]:\n",
    "\n",
    "\n",
    "import tensorflow as tf\n",
    "from tensorflow import keras\n",
    "from tensorflow.keras import layers\n",
    "import numpy as np\n",
    "\n",
    "\n",
    "# In[4]:\n",
    "\n",
    "\n",
    "airports = ['VABB', 'VOTV', 'VOBL', 'VECC', 'VIDP']\n",
    "\n",
    "def get_visibility(code):\n",
    "    arr = np.load(\"visibility_arr.npy\")\n",
    "    idx = airports.index(code)\n",
    "    return arr[:, idx].astype(np.float32)\n",
    "\n",
    "def get_era_full(param, level):\n",
    "    arr = np.load(\"18To20{}{}_uint8.npy\".format(param, level))\n",
    "    return arr.astype(np.float32)\n",
    "\n",
    "\n",
    "# In[5]:\n",
    "\n",
    "\n",
    "# Import data\n",
    "params = [\"z\", \"z\", \"z\"]\n",
    "levels = [500, 700, 1000]\n",
    "\n",
    "in1_var = get_era_full(params[0], levels[0])\n",
    "in2_var = get_era_full(params[1], levels[1])\n",
    "in3_var = get_era_full(params[2], levels[2])\n",
    "\n",
    "\n",
    "# In[6]:\n",
    "\n",
    "\n",
    "# data for a given airport\n",
    "X = np.concatenate((np.expand_dims(in1_var, axis=3), np.expand_dims(in2_var, axis=3), np.expand_dims(in3_var, axis=3)), axis=3)\n",
    "Y = get_visibility('VABB').reshape(-1, 1)\n",
    "\n",
    "\n",
    "# In[7]:\n",
    "\n",
    "\n",
    "# normalizing the output\n",
    "Y = Y/np.max(Y)\n",
    "\n",
    "\n",
    "# In[8]:\n",
    "\n",
    "\n",
    "#X.shape, X.dtype, Y.shape, X.dtype\n",
    "\n",
    "\n",
    "# In[9]:\n",
    "\n",
    "\n",
    "#26280*0.7, 26280*0.9\n",
    "\n",
    "\n",
    "# In[10]:\n",
    "\n",
    "\n",
    "# splitting the data\n",
    "X_train, Y_train = X[:18396], Y[:18396]\n",
    "X_val, Y_val = (X[18396:23652], Y[18396:23652])\n",
    "X_test, Y_test = (X[23652:], Y[23652:])\n",
    "\n",
    "\n",
    "# In[ ]:\n",
    "\n",
    "\n",
    "\n",
    "\n",
    "\n",
    "# In[11]:\n",
    "\n",
    "\n",
    "conv_base = tf.keras.applications.vgg16.VGG16(\n",
    "    include_top=False,\n",
    "    weights=\"imagenet\",\n",
    "    input_shape=(157, 157, 3))\n",
    "\n",
    "\n",
    "# In[12]:\n",
    "\n",
    "\n",
    "#conv_base.summary()\n",
    "\n",
    "\n",
    "# In[13]:\n",
    "\n",
    "\n",
    "#len(conv_base.layers)\n",
    "\n",
    "\n",
    "# In[14]:\n",
    "\n",
    "\n",
    "# preprocess_input\n",
    "\n",
    "train_features = tf.keras.applications.vgg16.preprocess_input(X_train)\n",
    "val_features = tf.keras.applications.vgg16.preprocess_input(X_val)\n",
    "test_features = tf.keras.applications.vgg16.preprocess_input(X_test)\n",
    "\n",
    "\n",
    "\n",
    "# In[15]:\n",
    "\n",
    "\n",
    "train_features = conv_base.predict(X_train)\n",
    "val_features = conv_base.predict(X_val)\n",
    "test_features = conv_base.predict(X_test)\n",
    "\n",
    "train_labels = Y_train\n",
    "val_labels = Y_val\n",
    "test_labels = Y_test\n",
    "\n",
    "\n",
    "# In[16]:\n",
    "\n",
    "\n",
    "#train_features.shape, train_labels.shape\n",
    "\n",
    "\n",
    "# In[17]:\n",
    "\n",
    "\n",
    "# simple baseline\n",
    "train_labels_mean = np.mean(train_labels)\n",
    "simple_baseline_mae = np.mean(np.abs(test_labels - train_labels_mean))\n",
    "#simple_baseline_mape = np.mean(((np.abs(test_labels - train_labels_mean))/test_labels)*100)\n",
    "print(simple_baseline_mae)#, simple_baseline_mape)\n",
    "\n",
    "\n",
    "# In[ ]:\n",
    "\n",
    "\n",
    "\n",
    "\n",
    "\n",
    "# In[33]:\n",
    "\n",
    "\n",
    "# model building\n",
    "inputs = keras.Input(shape = (4,4,512))\n",
    "x = layers.GlobalAveragePooling2D()(inputs)\n",
    "x = layers.BatchNormalization()(x)\n",
    "top_dropout_rate = 0.4\n",
    "x = layers.Dropout(top_dropout_rate)(x)\n",
    "outputs = layers.Dense(1)(x)\n",
    "model = keras.Model(inputs, outputs, name=\"vgg16\")\n",
    "\n",
    "\n",
    "# In[34]:\n",
    "\n",
    "\n",
    "#model.summary()\n",
    "\n",
    "\n",
    "# In[35]:\n",
    "\n",
    "\n",
    "# compiling the model\n",
    "#import tensorflow_addons as tfa\n",
    "\n",
    "#opt = tfa.optimizers.RectifiedAdam(learning_rate=0.001)\n",
    "#opt = tfa.optimizers.Lookahead(opt, sync_period=6, slow_step_size=0.5)\n",
    "opt =tf.keras.optimizers.RMSprop(learning_rate=0.001)\n",
    "model.compile(loss = 'mae', optimizer = opt, metrics = [tf.keras.losses.MeanAbsoluteError()])#, tf.keras.losses.MeanAbsolutePercentageError()])\n",
    "callbacks = [keras.callbacks.ModelCheckpoint(filepath = \"visibilityVABB_VGG16.keras\",\n",
    "                                             save_best_only = True, monitor = \"val_loss\")]\n",
    "\n",
    "\n",
    "# In[36]:\n",
    "\n",
    "\n",
    "history = model.fit(train_features, train_labels, batch_size = 128, epochs = 300, validation_data = (val_features, val_labels), verbose = 0)#, callbacks = callbacks)\n",
    "\n",
    "\n",
    "# In[37]:\n",
    "\n",
    "\n",
    "#history.history.keys()\n",
    "\n",
    "\n",
    "# In[38]:\n",
    "\n",
    "\n",
    "import matplotlib.pyplot as plt\n",
    "mae = history.history[\"mean_absolute_error\"]\n",
    "loss = history.history[\"loss\"]\n",
    "#mape = history.history[\"mean_absolute_percentage_error\"]\n",
    "val_mae = history.history[\"val_mean_absolute_error\"]\n",
    "val_loss = history.history[\"val_loss\"]\n",
    "#val_mape = history.history[\"val_mean_absolute_percentage_error\"]\n",
    "epochs = range(1, len(loss) + 1)\n",
    "\n",
    "plt.plot(epochs, loss, \"bo\", label = \"Training loss(MAE)\")\n",
    "plt.plot(epochs, val_loss, \"b\", label = \"Validation loss(MAE)\")\n",
    "plt.title(\"Training and validation loss(MAE)\")\n",
    "plt.legend()\n",
    "\n",
    "plt.figure()\n",
    "plt.plot(epochs, mae, \"bo\", label = \"Training accuracy(MAE)\")\n",
    "plt.plot(epochs, val_mae, \"b\", label = \"Validation accuracy(MAE)\")\n",
    "plt.title(\"Training and validation accuracy(MAE)\")\n",
    "plt.legend()\n",
    "\n",
    "\"\"\"plt.figure()\n",
    "plt.plot(epochs, mape, \"bo\", label = \"Training accuracy(MAPE)\")\n",
    "plt.plot(epochs, val_mape, \"b\", label = \"Validation accuracy(MAPE)\")\n",
    "plt.title(\"Training and validation accuracy(MAPE)\")\n",
    "plt.legend()\"\"\"\n",
    "\n",
    "plt.show()\n",
    "\n",
    "\n",
    "# In[39]:\n",
    "\n",
    "\n",
    "test_loss, test_mae = model.evaluate(test_features, test_labels)\n",
    "print(f\"Test MAE: {test_mae:.3f}\")\n",
    "#print(f\"Test MAPE: {test_mape:.3f}\")\n",
    "\n",
    "\n",
    "# In[ ]:\n",
    "\n",
    "\n",
    "\n"
   ]
  },
  {
   "cell_type": "code",
   "execution_count": 24,
   "id": "decdfad4",
   "metadata": {},
   "outputs": [
    {
     "name": "stdout",
     "output_type": "stream",
     "text": [
      "0.12273914\n"
     ]
    },
    {
     "data": {
      "image/png": "[encoded data removed]",
      "text/plain": [
       "<Figure size 432x288 with 1 Axes>"
      ]
     },
     "metadata": {
      "needs_background": "light"
     },
     "output_type": "display_data"
    },
    {
     "data": {
      "image/png": "[encoded data removed]",
      "text/plain": [
       "<Figure size 432x288 with 1 Axes>"
      ]
     },
     "metadata": {
      "needs_background": "light"
     },
     "output_type": "display_data"
    },
    {
     "name": "stdout",
     "output_type": "stream",
     "text": [
      "83/83 [==============================] - 0s 3ms/step - loss: 0.1168 - mean_absolute_error: 0.1175\n",
      "Test MAE: 0.118\n"
     ]
    }
   ],
   "source": [
    "#!/usr/bin/env python\n",
    "# coding: utf-8\n",
    "\n",
    "# In[3]:\n",
    "\n",
    "\n",
    "import tensorflow as tf\n",
    "from tensorflow import keras\n",
    "from tensorflow.keras import layers\n",
    "import numpy as np\n",
    "\n",
    "\n",
    "# In[4]:\n",
    "\n",
    "\n",
    "airports = ['VABB', 'VOTV', 'VOBL', 'VECC', 'VIDP']\n",
    "\n",
    "def get_visibility(code):\n",
    "    arr = np.load(\"visibility_arr.npy\")\n",
    "    idx = airports.index(code)\n",
    "    return arr[:, idx].astype(np.float32)\n",
    "\n",
    "def get_era_full(param, level):\n",
    "    arr = np.load(\"18To20{}{}_uint8.npy\".format(param, level))\n",
    "    return arr.astype(np.float32)\n",
    "\n",
    "\n",
    "# In[5]:\n",
    "\n",
    "\n",
    "# Import data\n",
    "params = [\"z\", \"z\", \"z\"]\n",
    "levels = [500, 700, 1000]\n",
    "\n",
    "in1_var = get_era_full(params[0], levels[0])\n",
    "in2_var = get_era_full(params[1], levels[1])\n",
    "in3_var = get_era_full(params[2], levels[2])\n",
    "\n",
    "\n",
    "# In[6]:\n",
    "\n",
    "\n",
    "# data for a given airport\n",
    "X = np.concatenate((np.expand_dims(in1_var, axis=3), np.expand_dims(in2_var, axis=3), np.expand_dims(in3_var, axis=3)), axis=3)\n",
    "Y = get_visibility('VOTV').reshape(-1, 1)\n",
    "\n",
    "\n",
    "# In[7]:\n",
    "\n",
    "\n",
    "# normalizing the output\n",
    "Y = Y/np.max(Y)\n",
    "\n",
    "\n",
    "# In[8]:\n",
    "\n",
    "\n",
    "#X.shape, X.dtype, Y.shape, X.dtype\n",
    "\n",
    "\n",
    "# In[9]:\n",
    "\n",
    "\n",
    "#26280*0.7, 26280*0.9\n",
    "\n",
    "\n",
    "# In[10]:\n",
    "\n",
    "\n",
    "# splitting the data\n",
    "X_train, Y_train = X[:18396], Y[:18396]\n",
    "X_val, Y_val = (X[18396:23652], Y[18396:23652])\n",
    "X_test, Y_test = (X[23652:], Y[23652:])\n",
    "\n",
    "\n",
    "# In[ ]:\n",
    "\n",
    "\n",
    "\n",
    "\n",
    "\n",
    "# In[11]:\n",
    "\n",
    "\n",
    "conv_base = tf.keras.applications.vgg16.VGG16(\n",
    "    include_top=False,\n",
    "    weights=\"imagenet\",\n",
    "    input_shape=(157, 157, 3))\n",
    "\n",
    "\n",
    "# In[12]:\n",
    "\n",
    "\n",
    "#conv_base.summary()\n",
    "\n",
    "\n",
    "# In[13]:\n",
    "\n",
    "\n",
    "#len(conv_base.layers)\n",
    "\n",
    "\n",
    "# In[14]:\n",
    "\n",
    "\n",
    "# preprocess_input\n",
    "\n",
    "train_features = tf.keras.applications.vgg16.preprocess_input(X_train)\n",
    "val_features = tf.keras.applications.vgg16.preprocess_input(X_val)\n",
    "test_features = tf.keras.applications.vgg16.preprocess_input(X_test)\n",
    "\n",
    "\n",
    "\n",
    "\n",
    "# In[15]:\n",
    "\n",
    "\n",
    "train_features = conv_base.predict(X_train)\n",
    "val_features = conv_base.predict(X_val)\n",
    "test_features = conv_base.predict(X_test)\n",
    "\n",
    "train_labels = Y_train\n",
    "val_labels = Y_val\n",
    "test_labels = Y_test\n",
    "\n",
    "\n",
    "# In[16]:\n",
    "\n",
    "\n",
    "#train_features.shape, train_labels.shape\n",
    "\n",
    "\n",
    "# In[17]:\n",
    "\n",
    "\n",
    "# simple baseline\n",
    "train_labels_mean = np.mean(train_labels)\n",
    "simple_baseline_mae = np.mean(np.abs(test_labels - train_labels_mean))\n",
    "#simple_baseline_mape = np.mean(((np.abs(test_labels - train_labels_mean))/test_labels)*100)\n",
    "print(simple_baseline_mae)#, simple_baseline_mape)\n",
    "\n",
    "\n",
    "# In[ ]:\n",
    "\n",
    "\n",
    "\n",
    "\n",
    "\n",
    "# In[33]:\n",
    "\n",
    "\n",
    "# model building\n",
    "inputs = keras.Input(shape = (4,4,512))\n",
    "x = layers.GlobalAveragePooling2D()(inputs)\n",
    "x = layers.BatchNormalization()(x)\n",
    "top_dropout_rate = 0.4\n",
    "x = layers.Dropout(top_dropout_rate)(x)\n",
    "outputs = layers.Dense(1)(x)\n",
    "model = keras.Model(inputs, outputs, name=\"vgg16\")\n",
    "\n",
    "\n",
    "# In[34]:\n",
    "\n",
    "\n",
    "#model.summary()\n",
    "\n",
    "\n",
    "# In[35]:\n",
    "\n",
    "\n",
    "# compiling the model\n",
    "#import tensorflow_addons as tfa\n",
    "\n",
    "#opt = tfa.optimizers.RectifiedAdam(learning_rate=0.001)\n",
    "#opt = tfa.optimizers.Lookahead(opt, sync_period=6, slow_step_size=0.5)\n",
    "opt =tf.keras.optimizers.RMSprop(learning_rate=0.001)\n",
    "model.compile(loss = 'mae', optimizer = opt, metrics = [tf.keras.losses.MeanAbsoluteError()])#, tf.keras.losses.MeanAbsolutePercentageError()])\n",
    "callbacks = [keras.callbacks.ModelCheckpoint(filepath = \"visibilityVOTV_VGG16.keras\",\n",
    "                                             save_best_only = True, monitor = \"val_loss\")]\n",
    "\n",
    "\n",
    "# In[36]:\n",
    "\n",
    "\n",
    "history = model.fit(train_features, train_labels, batch_size = 128, epochs = 300, validation_data = (val_features, val_labels), verbose = 0)#, callbacks = callbacks)\n",
    "\n",
    "\n",
    "# In[37]:\n",
    "\n",
    "\n",
    "#history.history.keys()\n",
    "\n",
    "\n",
    "# In[38]:\n",
    "\n",
    "\n",
    "import matplotlib.pyplot as plt\n",
    "mae = history.history[\"mean_absolute_error\"]\n",
    "loss = history.history[\"loss\"]\n",
    "#mape = history.history[\"mean_absolute_percentage_error\"]\n",
    "val_mae = history.history[\"val_mean_absolute_error\"]\n",
    "val_loss = history.history[\"val_loss\"]\n",
    "#val_mape = history.history[\"val_mean_absolute_percentage_error\"]\n",
    "epochs = range(1, len(loss) + 1)\n",
    "\n",
    "plt.plot(epochs, loss, \"bo\", label = \"Training loss(MAE)\")\n",
    "plt.plot(epochs, val_loss, \"b\", label = \"Validation loss(MAE)\")\n",
    "plt.title(\"Training and validation loss(MAE)\")\n",
    "plt.legend()\n",
    "\n",
    "plt.figure()\n",
    "plt.plot(epochs, mae, \"bo\", label = \"Training accuracy(MAE)\")\n",
    "plt.plot(epochs, val_mae, \"b\", label = \"Validation accuracy(MAE)\")\n",
    "plt.title(\"Training and validation accuracy(MAE)\")\n",
    "plt.legend()\n",
    "\n",
    "\"\"\"plt.figure()\n",
    "plt.plot(epochs, mape, \"bo\", label = \"Training accuracy(MAPE)\")\n",
    "plt.plot(epochs, val_mape, \"b\", label = \"Validation accuracy(MAPE)\")\n",
    "plt.title(\"Training and validation accuracy(MAPE)\")\n",
    "plt.legend()\"\"\"\n",
    "\n",
    "plt.show()\n",
    "\n",
    "\n",
    "# In[39]:\n",
    "\n",
    "\n",
    "test_loss, test_mae = model.evaluate(test_features, test_labels)\n",
    "print(f\"Test MAE: {test_mae:.3f}\")\n",
    "#print(f\"Test MAPE: {test_mape:.3f}\")\n",
    "\n",
    "\n",
    "# In[ ]:\n",
    "\n",
    "\n",
    "\n"
   ]
  },
  {
   "cell_type": "code",
   "execution_count": null,
   "id": "d1fa9cf7",
   "metadata": {},
   "outputs": [],
   "source": []
  }
 ],
 "metadata": {
  "kernelspec": {
   "display_name": "gpu2",
   "language": "python",
   "name": "gpu2"
  },
  "language_info": {
   "codemirror_mode": {
    "name": "ipython",
    "version": 3
   },
   "file_extension": ".py",
   "mimetype": "text/x-python",
   "name": "python",
   "nbconvert_exporter": "python",
   "pygments_lexer": "ipython3",
   "version": "3.8.12"
  }
 },
 "nbformat": 4,
 "nbformat_minor": 5
}
